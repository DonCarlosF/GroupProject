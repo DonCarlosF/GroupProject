{
 "cells": [
  {
   "cell_type": "markdown",
   "metadata": {},
   "source": [
    "### Reading Android Store App Data "
   ]
  },
  {
   "cell_type": "code",
   "execution_count": 58,
   "metadata": {},
   "outputs": [
    {
     "data": {
      "text/html": [
       "<div>\n",
       "<style scoped>\n",
       "    .dataframe tbody tr th:only-of-type {\n",
       "        vertical-align: middle;\n",
       "    }\n",
       "\n",
       "    .dataframe tbody tr th {\n",
       "        vertical-align: top;\n",
       "    }\n",
       "\n",
       "    .dataframe thead th {\n",
       "        text-align: right;\n",
       "    }\n",
       "</style>\n",
       "<table border=\"1\" class=\"dataframe\">\n",
       "  <thead>\n",
       "    <tr style=\"text-align: right;\">\n",
       "      <th></th>\n",
       "      <th>name</th>\n",
       "      <th>datePublished</th>\n",
       "      <th>numDownloadsMin</th>\n",
       "      <th>fileSize</th>\n",
       "      <th>packageName</th>\n",
       "      <th>price</th>\n",
       "      <th>aggregateRating</th>\n",
       "      <th>softwareVersion</th>\n",
       "      <th>ratingCount</th>\n",
       "      <th>dateCrawled</th>\n",
       "      <th>url</th>\n",
       "    </tr>\n",
       "  </thead>\n",
       "  <tbody>\n",
       "    <tr>\n",
       "      <th>0</th>\n",
       "      <td>FSP Power App</td>\n",
       "      <td>2. October 2013</td>\n",
       "      <td>500</td>\n",
       "      <td>12M</td>\n",
       "      <td>com.fspapp</td>\n",
       "      <td>0.0</td>\n",
       "      <td>3.9677419662475586</td>\n",
       "      <td>1.0.6</td>\n",
       "      <td>31</td>\n",
       "      <td>2014-10-05 00:00:00</td>\n",
       "      <td>https://play.google.com/store/apps/details?id=...</td>\n",
       "    </tr>\n",
       "    <tr>\n",
       "      <th>1</th>\n",
       "      <td>FSP Autofahrer-App</td>\n",
       "      <td>5. April 2012</td>\n",
       "      <td>500</td>\n",
       "      <td>1,3M</td>\n",
       "      <td>de.edvserviceputbus.FSP</td>\n",
       "      <td>0.0</td>\n",
       "      <td>3.8181817531585693</td>\n",
       "      <td>1.0.4</td>\n",
       "      <td>11</td>\n",
       "      <td>2014-10-05 00:00:00</td>\n",
       "      <td>https://play.google.com/store/apps/details?id=...</td>\n",
       "    </tr>\n",
       "    <tr>\n",
       "      <th>2</th>\n",
       "      <td>Art-picnic FSP</td>\n",
       "      <td>25. Juli 2014</td>\n",
       "      <td>500</td>\n",
       "      <td>2,7M</td>\n",
       "      <td>by.orangesoft.fsp</td>\n",
       "      <td>0.0</td>\n",
       "      <td>4.722222328186035</td>\n",
       "      <td>1.5</td>\n",
       "      <td>18</td>\n",
       "      <td>2014-10-05 00:00:00</td>\n",
       "      <td>https://play.google.com/store/apps/details?id=...</td>\n",
       "    </tr>\n",
       "    <tr>\n",
       "      <th>3</th>\n",
       "      <td>Tennis F.S.P</td>\n",
       "      <td>19. Juli 2013</td>\n",
       "      <td>1</td>\n",
       "      <td>4,5M</td>\n",
       "      <td>com.createyourapps.tennisfsp</td>\n",
       "      <td>0.0</td>\n",
       "      <td>0</td>\n",
       "      <td>1.1</td>\n",
       "      <td>0</td>\n",
       "      <td>2014-10-05 00:00:00</td>\n",
       "      <td>https://play.google.com/store/apps/details?id=...</td>\n",
       "    </tr>\n",
       "    <tr>\n",
       "      <th>4</th>\n",
       "      <td>Super Piano FREE HD</td>\n",
       "      <td>19. Januar 2014</td>\n",
       "      <td>100000</td>\n",
       "      <td>4,1M</td>\n",
       "      <td>idteam.app.crazypianofree</td>\n",
       "      <td>0.0</td>\n",
       "      <td>3.9825241565704346</td>\n",
       "      <td>5.9</td>\n",
       "      <td>1545</td>\n",
       "      <td>2014-10-05 00:00:00</td>\n",
       "      <td>https://play.google.com/store/apps/details?id=...</td>\n",
       "    </tr>\n",
       "  </tbody>\n",
       "</table>\n",
       "</div>"
      ],
      "text/plain": [
       "                  name    datePublished numDownloadsMin fileSize  \\\n",
       "0        FSP Power App  2. October 2013             500      12M   \n",
       "1   FSP Autofahrer-App    5. April 2012             500     1,3M   \n",
       "2       Art-picnic FSP    25. Juli 2014             500     2,7M   \n",
       "3         Tennis F.S.P    19. Juli 2013               1     4,5M   \n",
       "4  Super Piano FREE HD  19. Januar 2014          100000     4,1M   \n",
       "\n",
       "                    packageName price     aggregateRating softwareVersion  \\\n",
       "0                    com.fspapp   0.0  3.9677419662475586           1.0.6   \n",
       "1       de.edvserviceputbus.FSP   0.0  3.8181817531585693           1.0.4   \n",
       "2             by.orangesoft.fsp   0.0   4.722222328186035             1.5   \n",
       "3  com.createyourapps.tennisfsp   0.0                   0             1.1   \n",
       "4     idteam.app.crazypianofree   0.0  3.9825241565704346             5.9   \n",
       "\n",
       "  ratingCount          dateCrawled  \\\n",
       "0          31  2014-10-05 00:00:00   \n",
       "1          11  2014-10-05 00:00:00   \n",
       "2          18  2014-10-05 00:00:00   \n",
       "3           0  2014-10-05 00:00:00   \n",
       "4        1545  2014-10-05 00:00:00   \n",
       "\n",
       "                                                 url  \n",
       "0  https://play.google.com/store/apps/details?id=...  \n",
       "1  https://play.google.com/store/apps/details?id=...  \n",
       "2  https://play.google.com/store/apps/details?id=...  \n",
       "3  https://play.google.com/store/apps/details?id=...  \n",
       "4  https://play.google.com/store/apps/details?id=...  "
      ]
     },
     "execution_count": 58,
     "metadata": {},
     "output_type": "execute_result"
    }
   ],
   "source": [
    "import numpy as np\n",
    "import pandas as pd \n",
    "\n",
    "AndroidDf = pd.read_excel('../data/android_apps.xlsx')\n",
    "AndroidDf.head()"
   ]
  },
  {
   "cell_type": "markdown",
   "metadata": {},
   "source": [
    "### Analysing and converting data to the appropriate format"
   ]
  },
  {
   "cell_type": "code",
   "execution_count": 59,
   "metadata": {},
   "outputs": [
    {
     "data": {
      "text/plain": [
       "name               object\n",
       "datePublished      object\n",
       "numDownloadsMin    object\n",
       "fileSize           object\n",
       "packageName        object\n",
       "price              object\n",
       "aggregateRating    object\n",
       "softwareVersion    object\n",
       "ratingCount        object\n",
       "dateCrawled        object\n",
       "url                object\n",
       "dtype: object"
      ]
     },
     "execution_count": 59,
     "metadata": {},
     "output_type": "execute_result"
    }
   ],
   "source": [
    "AndroidDf.dtypes"
   ]
  },
  {
   "cell_type": "code",
   "execution_count": 109,
   "metadata": {},
   "outputs": [],
   "source": [
    "AndroidDf[\"numDownloadsMin\"] = pd.to_numeric(AndroidDf[\"numDownloadsMin\"], errors='coerce')\n",
    "AndroidDf[\"price\"] = pd.to_numeric(AndroidDf[\"price\"], errors='coerce')\n",
    "\n",
    "AndroidDf[\"aggregateRating\"] = pd.to_numeric(AndroidDf[\"aggregateRating\"], errors='coerce')\n",
    "AndroidDf[\"ratingCount\"] = pd.to_numeric(AndroidDf[\"ratingCount\"], errors='coerce')\n",
    "\n"
   ]
  },
  {
   "cell_type": "code",
   "execution_count": 110,
   "metadata": {},
   "outputs": [
    {
     "data": {
      "text/plain": [
       "name                object\n",
       "datePublished       object\n",
       "numDownloadsMin    float64\n",
       "fileSize            object\n",
       "packageName         object\n",
       "price              float64\n",
       "aggregateRating    float64\n",
       "softwareVersion     object\n",
       "ratingCount          int64\n",
       "dateCrawled         object\n",
       "url                 object\n",
       "dtype: object"
      ]
     },
     "execution_count": 110,
     "metadata": {},
     "output_type": "execute_result"
    }
   ],
   "source": [
    "AndroidDf.dtypes"
   ]
  },
  {
   "cell_type": "code",
   "execution_count": 111,
   "metadata": {},
   "outputs": [
    {
     "data": {
      "text/html": [
       "<div>\n",
       "<style scoped>\n",
       "    .dataframe tbody tr th:only-of-type {\n",
       "        vertical-align: middle;\n",
       "    }\n",
       "\n",
       "    .dataframe tbody tr th {\n",
       "        vertical-align: top;\n",
       "    }\n",
       "\n",
       "    .dataframe thead th {\n",
       "        text-align: right;\n",
       "    }\n",
       "</style>\n",
       "<table border=\"1\" class=\"dataframe\">\n",
       "  <thead>\n",
       "    <tr style=\"text-align: right;\">\n",
       "      <th></th>\n",
       "      <th>name</th>\n",
       "      <th>datePublished</th>\n",
       "      <th>numDownloadsMin</th>\n",
       "      <th>fileSize</th>\n",
       "      <th>packageName</th>\n",
       "      <th>price</th>\n",
       "      <th>aggregateRating</th>\n",
       "      <th>softwareVersion</th>\n",
       "      <th>ratingCount</th>\n",
       "      <th>dateCrawled</th>\n",
       "      <th>url</th>\n",
       "    </tr>\n",
       "  </thead>\n",
       "  <tbody>\n",
       "    <tr>\n",
       "      <th>4</th>\n",
       "      <td>Super Piano FREE HD</td>\n",
       "      <td>19. Januar 2014</td>\n",
       "      <td>100000.0</td>\n",
       "      <td>4,1M</td>\n",
       "      <td>idteam.app.crazypianofree</td>\n",
       "      <td>0.0</td>\n",
       "      <td>3.982524</td>\n",
       "      <td>5.9</td>\n",
       "      <td>1545</td>\n",
       "      <td>2014-10-05 00:00:00</td>\n",
       "      <td>https://play.google.com/store/apps/details?id=...</td>\n",
       "    </tr>\n",
       "    <tr>\n",
       "      <th>6</th>\n",
       "      <td>Beach Buggy Racing</td>\n",
       "      <td>25. September 2014</td>\n",
       "      <td>1000000.0</td>\n",
       "      <td>75M</td>\n",
       "      <td>com.vectorunit.purple.googleplay</td>\n",
       "      <td>0.0</td>\n",
       "      <td>4.245816</td>\n",
       "      <td>1.0.4</td>\n",
       "      <td>72359</td>\n",
       "      <td>2014-10-05 00:00:00</td>\n",
       "      <td>https://play.google.com/store/apps/details?id=...</td>\n",
       "    </tr>\n",
       "    <tr>\n",
       "      <th>7</th>\n",
       "      <td>LEGOÆ Juniors Create &amp;amp; Cruise</td>\n",
       "      <td>6. Februar 2014</td>\n",
       "      <td>10000000.0</td>\n",
       "      <td>37M</td>\n",
       "      <td>com.lego.bricksmore</td>\n",
       "      <td>0.0</td>\n",
       "      <td>3.893223</td>\n",
       "      <td>2.0.2</td>\n",
       "      <td>134796</td>\n",
       "      <td>2014-10-05 00:00:00</td>\n",
       "      <td>https://play.google.com/store/apps/details?id=...</td>\n",
       "    </tr>\n",
       "    <tr>\n",
       "      <th>9</th>\n",
       "      <td>Whatís New In Logic Pro X</td>\n",
       "      <td>18. Juli 2013</td>\n",
       "      <td>5000.0</td>\n",
       "      <td>106M</td>\n",
       "      <td>com.nonlineareducating.logicpro100</td>\n",
       "      <td>0.0</td>\n",
       "      <td>4.407407</td>\n",
       "      <td>1.0</td>\n",
       "      <td>54</td>\n",
       "      <td>2014-10-05 00:00:00</td>\n",
       "      <td>https://play.google.com/store/apps/details?id=...</td>\n",
       "    </tr>\n",
       "    <tr>\n",
       "      <th>10</th>\n",
       "      <td>Music Hero Rock</td>\n",
       "      <td>9. Juli 2014</td>\n",
       "      <td>100000.0</td>\n",
       "      <td>34M</td>\n",
       "      <td>com.geegee.guitarrock</td>\n",
       "      <td>0.0</td>\n",
       "      <td>3.632439</td>\n",
       "      <td>1.0.3</td>\n",
       "      <td>4957</td>\n",
       "      <td>2014-10-05 00:00:00</td>\n",
       "      <td>https://play.google.com/store/apps/details?id=...</td>\n",
       "    </tr>\n",
       "  </tbody>\n",
       "</table>\n",
       "</div>"
      ],
      "text/plain": [
       "                                 name       datePublished  numDownloadsMin  \\\n",
       "4                 Super Piano FREE HD     19. Januar 2014         100000.0   \n",
       "6                  Beach Buggy Racing  25. September 2014        1000000.0   \n",
       "7   LEGOÆ Juniors Create &amp; Cruise     6. Februar 2014       10000000.0   \n",
       "9           Whatís New In Logic Pro X       18. Juli 2013           5000.0   \n",
       "10                    Music Hero Rock        9. Juli 2014         100000.0   \n",
       "\n",
       "   fileSize                         packageName  price  aggregateRating  \\\n",
       "4      4,1M           idteam.app.crazypianofree    0.0         3.982524   \n",
       "6       75M    com.vectorunit.purple.googleplay    0.0         4.245816   \n",
       "7       37M                 com.lego.bricksmore    0.0         3.893223   \n",
       "9      106M  com.nonlineareducating.logicpro100    0.0         4.407407   \n",
       "10      34M               com.geegee.guitarrock    0.0         3.632439   \n",
       "\n",
       "   softwareVersion  ratingCount          dateCrawled  \\\n",
       "4              5.9         1545  2014-10-05 00:00:00   \n",
       "6            1.0.4        72359  2014-10-05 00:00:00   \n",
       "7            2.0.2       134796  2014-10-05 00:00:00   \n",
       "9              1.0           54  2014-10-05 00:00:00   \n",
       "10           1.0.3         4957  2014-10-05 00:00:00   \n",
       "\n",
       "                                                  url  \n",
       "4   https://play.google.com/store/apps/details?id=...  \n",
       "6   https://play.google.com/store/apps/details?id=...  \n",
       "7   https://play.google.com/store/apps/details?id=...  \n",
       "9   https://play.google.com/store/apps/details?id=...  \n",
       "10  https://play.google.com/store/apps/details?id=...  "
      ]
     },
     "execution_count": 111,
     "metadata": {},
     "output_type": "execute_result"
    }
   ],
   "source": [
    "AndroidDf.head()"
   ]
  },
  {
   "cell_type": "code",
   "execution_count": 112,
   "metadata": {},
   "outputs": [
    {
     "data": {
      "text/plain": [
       "count    144926.000000\n",
       "mean          3.931054\n",
       "std           0.434016\n",
       "min           1.000000\n",
       "25%           3.692308\n",
       "50%           3.978789\n",
       "75%           4.227739\n",
       "max           4.990635\n",
       "Name: aggregateRating, dtype: float64"
      ]
     },
     "execution_count": 112,
     "metadata": {},
     "output_type": "execute_result"
    }
   ],
   "source": [
    "AndroidDf[\"aggregateRating\"].describe()"
   ]
  },
  {
   "cell_type": "code",
   "execution_count": 113,
   "metadata": {},
   "outputs": [],
   "source": [
    "AndroidDf = AndroidDf[AndroidDf[\"aggregateRating\"] < 5]"
   ]
  },
  {
   "cell_type": "code",
   "execution_count": 114,
   "metadata": {},
   "outputs": [
    {
     "data": {
      "text/plain": [
       "count    144926.000000\n",
       "mean          3.931054\n",
       "std           0.434016\n",
       "min           1.000000\n",
       "25%           3.692308\n",
       "50%           3.978789\n",
       "75%           4.227739\n",
       "max           4.990635\n",
       "Name: aggregateRating, dtype: float64"
      ]
     },
     "execution_count": 114,
     "metadata": {},
     "output_type": "execute_result"
    }
   ],
   "source": [
    "AndroidDf.aggregateRating.describe()"
   ]
  },
  {
   "cell_type": "code",
   "execution_count": 115,
   "metadata": {},
   "outputs": [],
   "source": [
    "AndroidDf = AndroidDf[AndroidDf[\"aggregateRating\"] > 0]"
   ]
  },
  {
   "cell_type": "code",
   "execution_count": 116,
   "metadata": {},
   "outputs": [
    {
     "data": {
      "text/plain": [
       "count    144926.000000\n",
       "mean          3.931054\n",
       "std           0.434016\n",
       "min           1.000000\n",
       "25%           3.692308\n",
       "50%           3.978789\n",
       "75%           4.227739\n",
       "max           4.990635\n",
       "Name: aggregateRating, dtype: float64"
      ]
     },
     "execution_count": 116,
     "metadata": {},
     "output_type": "execute_result"
    }
   ],
   "source": [
    "AndroidDf.aggregateRating.describe()  ## AggregateRating was used to clean (delete) a quarter of the data"
   ]
  },
  {
   "cell_type": "code",
   "execution_count": 117,
   "metadata": {},
   "outputs": [
    {
     "data": {
      "text/plain": [
       "count    144926.000000\n",
       "mean          0.088040\n",
       "std           0.926516\n",
       "min           0.000000\n",
       "25%           0.000000\n",
       "50%           0.000000\n",
       "75%           0.000000\n",
       "max         199.000000\n",
       "Name: price, dtype: float64"
      ]
     },
     "execution_count": 117,
     "metadata": {},
     "output_type": "execute_result"
    }
   ],
   "source": [
    "AndroidDf.price.describe() "
   ]
  },
  {
   "cell_type": "code",
   "execution_count": 118,
   "metadata": {},
   "outputs": [
    {
     "data": {
      "text/plain": [
       "count      5.000000\n",
       "mean      87.404000\n",
       "std       62.389113\n",
       "min       58.130000\n",
       "25%       59.950000\n",
       "50%       59.950000\n",
       "75%       59.990000\n",
       "max      199.000000\n",
       "Name: price, dtype: float64"
      ]
     },
     "execution_count": 118,
     "metadata": {},
     "output_type": "execute_result"
    }
   ],
   "source": [
    "AndroidDf[AndroidDf.price > 50].price.describe()  ## We have enough app above 50 to consired them as valuable"
   ]
  },
  {
   "cell_type": "code",
   "execution_count": 119,
   "metadata": {},
   "outputs": [
    {
     "data": {
      "text/plain": [
       "count    1.449260e+05\n",
       "mean     3.190646e+05\n",
       "std      6.642343e+06\n",
       "min      5.000000e+03\n",
       "25%      1.000000e+04\n",
       "50%      1.000000e+04\n",
       "75%      1.000000e+05\n",
       "max      1.000000e+09\n",
       "Name: numDownloadsMin, dtype: float64"
      ]
     },
     "execution_count": 119,
     "metadata": {},
     "output_type": "execute_result"
    }
   ],
   "source": [
    "AndroidDf.numDownloadsMin.describe()"
   ]
  },
  {
   "cell_type": "code",
   "execution_count": 120,
   "metadata": {},
   "outputs": [],
   "source": [
    "AndroidDf = AndroidDf[AndroidDf.numDownloadsMin > 1000]  ##We filter with only relevant apps"
   ]
  },
  {
   "cell_type": "code",
   "execution_count": 121,
   "metadata": {
    "scrolled": true
   },
   "outputs": [
    {
     "data": {
      "text/plain": [
       "count    1.449260e+05\n",
       "mean     3.190646e+05\n",
       "std      6.642343e+06\n",
       "min      5.000000e+03\n",
       "25%      1.000000e+04\n",
       "50%      1.000000e+04\n",
       "75%      1.000000e+05\n",
       "max      1.000000e+09\n",
       "Name: numDownloadsMin, dtype: float64"
      ]
     },
     "execution_count": 121,
     "metadata": {},
     "output_type": "execute_result"
    }
   ],
   "source": [
    "AndroidDf.numDownloadsMin.describe()"
   ]
  },
  {
   "cell_type": "code",
   "execution_count": 122,
   "metadata": {},
   "outputs": [
    {
     "data": {
      "text/html": [
       "<div>\n",
       "<style scoped>\n",
       "    .dataframe tbody tr th:only-of-type {\n",
       "        vertical-align: middle;\n",
       "    }\n",
       "\n",
       "    .dataframe tbody tr th {\n",
       "        vertical-align: top;\n",
       "    }\n",
       "\n",
       "    .dataframe thead th {\n",
       "        text-align: right;\n",
       "    }\n",
       "</style>\n",
       "<table border=\"1\" class=\"dataframe\">\n",
       "  <thead>\n",
       "    <tr style=\"text-align: right;\">\n",
       "      <th></th>\n",
       "      <th>name</th>\n",
       "      <th>datePublished</th>\n",
       "      <th>numDownloadsMin</th>\n",
       "      <th>fileSize</th>\n",
       "      <th>packageName</th>\n",
       "      <th>price</th>\n",
       "      <th>aggregateRating</th>\n",
       "      <th>softwareVersion</th>\n",
       "      <th>ratingCount</th>\n",
       "      <th>dateCrawled</th>\n",
       "      <th>url</th>\n",
       "    </tr>\n",
       "  </thead>\n",
       "  <tbody>\n",
       "    <tr>\n",
       "      <th>5327</th>\n",
       "      <td>Facebook</td>\n",
       "      <td>2. October 2014</td>\n",
       "      <td>1.000000e+09</td>\n",
       "      <td>NaN</td>\n",
       "      <td>com.facebook.katana</td>\n",
       "      <td>0.0</td>\n",
       "      <td>3.982016</td>\n",
       "      <td>NaN</td>\n",
       "      <td>21711529</td>\n",
       "      <td>2014-10-05 00:00:00</td>\n",
       "      <td>https://play.google.com/store/apps/details?id=...</td>\n",
       "    </tr>\n",
       "    <tr>\n",
       "      <th>2853</th>\n",
       "      <td>Gmail</td>\n",
       "      <td>16. Juli 2014</td>\n",
       "      <td>1.000000e+09</td>\n",
       "      <td>NaN</td>\n",
       "      <td>com.google.android.gm</td>\n",
       "      <td>0.0</td>\n",
       "      <td>4.306069</td>\n",
       "      <td>NaN</td>\n",
       "      <td>1425354</td>\n",
       "      <td>2014-10-05 00:00:00</td>\n",
       "      <td>https://play.google.com/store/apps/details?id=...</td>\n",
       "    </tr>\n",
       "    <tr>\n",
       "      <th>11475</th>\n",
       "      <td>Maps</td>\n",
       "      <td>29. August 2014</td>\n",
       "      <td>1.000000e+09</td>\n",
       "      <td>NaN</td>\n",
       "      <td>com.google.android.apps.maps</td>\n",
       "      <td>0.0</td>\n",
       "      <td>4.334330</td>\n",
       "      <td>NaN</td>\n",
       "      <td>4175221</td>\n",
       "      <td>2014-10-05 00:00:00</td>\n",
       "      <td>https://play.google.com/store/apps/details?id=...</td>\n",
       "    </tr>\n",
       "    <tr>\n",
       "      <th>4937</th>\n",
       "      <td>Chrome-Browser ñ Google</td>\n",
       "      <td>4. September 2014</td>\n",
       "      <td>5.000000e+08</td>\n",
       "      <td>NaN</td>\n",
       "      <td>com.android.chrome</td>\n",
       "      <td>0.0</td>\n",
       "      <td>4.253021</td>\n",
       "      <td>NaN</td>\n",
       "      <td>2099460</td>\n",
       "      <td>2014-10-05 00:00:00</td>\n",
       "      <td>https://play.google.com/store/apps/details?id=...</td>\n",
       "    </tr>\n",
       "    <tr>\n",
       "      <th>7112</th>\n",
       "      <td>Street View in Google Maps</td>\n",
       "      <td>9. October 2012</td>\n",
       "      <td>5.000000e+08</td>\n",
       "      <td>258k</td>\n",
       "      <td>com.google.android.street</td>\n",
       "      <td>0.0</td>\n",
       "      <td>4.245933</td>\n",
       "      <td>1.8.1.2</td>\n",
       "      <td>931413</td>\n",
       "      <td>2014-10-05 00:00:00</td>\n",
       "      <td>https://play.google.com/store/apps/details?id=...</td>\n",
       "    </tr>\n",
       "  </tbody>\n",
       "</table>\n",
       "</div>"
      ],
      "text/plain": [
       "                             name      datePublished  numDownloadsMin  \\\n",
       "5327                     Facebook    2. October 2014     1.000000e+09   \n",
       "2853                        Gmail      16. Juli 2014     1.000000e+09   \n",
       "11475                        Maps    29. August 2014     1.000000e+09   \n",
       "4937      Chrome-Browser ñ Google  4. September 2014     5.000000e+08   \n",
       "7112   Street View in Google Maps    9. October 2012     5.000000e+08   \n",
       "\n",
       "      fileSize                   packageName  price  aggregateRating  \\\n",
       "5327       NaN           com.facebook.katana    0.0         3.982016   \n",
       "2853       NaN         com.google.android.gm    0.0         4.306069   \n",
       "11475      NaN  com.google.android.apps.maps    0.0         4.334330   \n",
       "4937       NaN            com.android.chrome    0.0         4.253021   \n",
       "7112      258k     com.google.android.street    0.0         4.245933   \n",
       "\n",
       "      softwareVersion  ratingCount          dateCrawled  \\\n",
       "5327              NaN     21711529  2014-10-05 00:00:00   \n",
       "2853              NaN      1425354  2014-10-05 00:00:00   \n",
       "11475             NaN      4175221  2014-10-05 00:00:00   \n",
       "4937              NaN      2099460  2014-10-05 00:00:00   \n",
       "7112          1.8.1.2       931413  2014-10-05 00:00:00   \n",
       "\n",
       "                                                     url  \n",
       "5327   https://play.google.com/store/apps/details?id=...  \n",
       "2853   https://play.google.com/store/apps/details?id=...  \n",
       "11475  https://play.google.com/store/apps/details?id=...  \n",
       "4937   https://play.google.com/store/apps/details?id=...  \n",
       "7112   https://play.google.com/store/apps/details?id=...  "
      ]
     },
     "execution_count": 122,
     "metadata": {},
     "output_type": "execute_result"
    }
   ],
   "source": [
    "AndroidDf.sort_values(by=[\"numDownloadsMin\"],ascending=False).head()"
   ]
  },
  {
   "cell_type": "code",
   "execution_count": 123,
   "metadata": {},
   "outputs": [
    {
     "data": {
      "text/html": [
       "<div>\n",
       "<style scoped>\n",
       "    .dataframe tbody tr th:only-of-type {\n",
       "        vertical-align: middle;\n",
       "    }\n",
       "\n",
       "    .dataframe tbody tr th {\n",
       "        vertical-align: top;\n",
       "    }\n",
       "\n",
       "    .dataframe thead th {\n",
       "        text-align: right;\n",
       "    }\n",
       "</style>\n",
       "<table border=\"1\" class=\"dataframe\">\n",
       "  <thead>\n",
       "    <tr style=\"text-align: right;\">\n",
       "      <th></th>\n",
       "      <th>numDownloadsMin</th>\n",
       "      <th>price</th>\n",
       "      <th>aggregateRating</th>\n",
       "      <th>ratingCount</th>\n",
       "    </tr>\n",
       "  </thead>\n",
       "  <tbody>\n",
       "    <tr>\n",
       "      <th>count</th>\n",
       "      <td>1.449260e+05</td>\n",
       "      <td>144926.000000</td>\n",
       "      <td>144926.000000</td>\n",
       "      <td>1.449260e+05</td>\n",
       "    </tr>\n",
       "    <tr>\n",
       "      <th>mean</th>\n",
       "      <td>3.190646e+05</td>\n",
       "      <td>0.088040</td>\n",
       "      <td>3.931054</td>\n",
       "      <td>7.322989e+03</td>\n",
       "    </tr>\n",
       "    <tr>\n",
       "      <th>std</th>\n",
       "      <td>6.642343e+06</td>\n",
       "      <td>0.926516</td>\n",
       "      <td>0.434016</td>\n",
       "      <td>1.286576e+05</td>\n",
       "    </tr>\n",
       "    <tr>\n",
       "      <th>min</th>\n",
       "      <td>5.000000e+03</td>\n",
       "      <td>0.000000</td>\n",
       "      <td>1.000000</td>\n",
       "      <td>1.000000e+00</td>\n",
       "    </tr>\n",
       "    <tr>\n",
       "      <th>25%</th>\n",
       "      <td>1.000000e+04</td>\n",
       "      <td>0.000000</td>\n",
       "      <td>3.692308</td>\n",
       "      <td>1.150000e+02</td>\n",
       "    </tr>\n",
       "    <tr>\n",
       "      <th>50%</th>\n",
       "      <td>1.000000e+04</td>\n",
       "      <td>0.000000</td>\n",
       "      <td>3.978789</td>\n",
       "      <td>3.460000e+02</td>\n",
       "    </tr>\n",
       "    <tr>\n",
       "      <th>75%</th>\n",
       "      <td>1.000000e+05</td>\n",
       "      <td>0.000000</td>\n",
       "      <td>4.227739</td>\n",
       "      <td>1.370000e+03</td>\n",
       "    </tr>\n",
       "    <tr>\n",
       "      <th>max</th>\n",
       "      <td>1.000000e+09</td>\n",
       "      <td>199.000000</td>\n",
       "      <td>4.990635</td>\n",
       "      <td>2.171153e+07</td>\n",
       "    </tr>\n",
       "  </tbody>\n",
       "</table>\n",
       "</div>"
      ],
      "text/plain": [
       "       numDownloadsMin          price  aggregateRating   ratingCount\n",
       "count     1.449260e+05  144926.000000    144926.000000  1.449260e+05\n",
       "mean      3.190646e+05       0.088040         3.931054  7.322989e+03\n",
       "std       6.642343e+06       0.926516         0.434016  1.286576e+05\n",
       "min       5.000000e+03       0.000000         1.000000  1.000000e+00\n",
       "25%       1.000000e+04       0.000000         3.692308  1.150000e+02\n",
       "50%       1.000000e+04       0.000000         3.978789  3.460000e+02\n",
       "75%       1.000000e+05       0.000000         4.227739  1.370000e+03\n",
       "max       1.000000e+09     199.000000         4.990635  2.171153e+07"
      ]
     },
     "execution_count": 123,
     "metadata": {},
     "output_type": "execute_result"
    }
   ],
   "source": [
    "AndroidDf.describe()"
   ]
  },
  {
   "cell_type": "code",
   "execution_count": 125,
   "metadata": {},
   "outputs": [
    {
     "data": {
      "text/plain": [
       "count    1.449260e+05\n",
       "mean     7.322989e+03\n",
       "std      1.286576e+05\n",
       "min      1.000000e+00\n",
       "25%      1.150000e+02\n",
       "50%      3.460000e+02\n",
       "75%      1.370000e+03\n",
       "max      2.171153e+07\n",
       "Name: ratingCount, dtype: float64"
      ]
     },
     "execution_count": 125,
     "metadata": {},
     "output_type": "execute_result"
    }
   ],
   "source": [
    "AndroidDf.ratingCount.describe()"
   ]
  },
  {
   "cell_type": "code",
   "execution_count": 127,
   "metadata": {},
   "outputs": [
    {
     "data": {
      "text/plain": [
       "1"
      ]
     },
     "execution_count": 127,
     "metadata": {},
     "output_type": "execute_result"
    }
   ],
   "source": [
    "AndroidDf.ratingCount.min()"
   ]
  },
  {
   "cell_type": "code",
   "execution_count": 129,
   "metadata": {},
   "outputs": [],
   "source": [
    "AndroidDf = AndroidDf[AndroidDf.ratingCount > 100]"
   ]
  },
  {
   "cell_type": "code",
   "execution_count": 130,
   "metadata": {},
   "outputs": [
    {
     "data": {
      "text/plain": [
       "count    1.131220e+05\n",
       "mean     9.365797e+03\n",
       "std      1.455596e+05\n",
       "min      1.010000e+02\n",
       "25%      2.350000e+02\n",
       "50%      5.920000e+02\n",
       "75%      2.074000e+03\n",
       "max      2.171153e+07\n",
       "Name: ratingCount, dtype: float64"
      ]
     },
     "execution_count": 130,
     "metadata": {},
     "output_type": "execute_result"
    }
   ],
   "source": [
    "AndroidDf.ratingCount.describe()"
   ]
  },
  {
   "cell_type": "code",
   "execution_count": 132,
   "metadata": {},
   "outputs": [
    {
     "data": {
      "text/html": [
       "<div>\n",
       "<style scoped>\n",
       "    .dataframe tbody tr th:only-of-type {\n",
       "        vertical-align: middle;\n",
       "    }\n",
       "\n",
       "    .dataframe tbody tr th {\n",
       "        vertical-align: top;\n",
       "    }\n",
       "\n",
       "    .dataframe thead th {\n",
       "        text-align: right;\n",
       "    }\n",
       "</style>\n",
       "<table border=\"1\" class=\"dataframe\">\n",
       "  <thead>\n",
       "    <tr style=\"text-align: right;\">\n",
       "      <th></th>\n",
       "      <th>name</th>\n",
       "      <th>numDownloadsMin</th>\n",
       "      <th>price</th>\n",
       "      <th>aggregateRating</th>\n",
       "      <th>ratingCount</th>\n",
       "    </tr>\n",
       "  </thead>\n",
       "  <tbody>\n",
       "    <tr>\n",
       "      <th>4</th>\n",
       "      <td>Super Piano FREE HD</td>\n",
       "      <td>100000.0</td>\n",
       "      <td>0.0</td>\n",
       "      <td>3.982524</td>\n",
       "      <td>1545</td>\n",
       "    </tr>\n",
       "    <tr>\n",
       "      <th>6</th>\n",
       "      <td>Beach Buggy Racing</td>\n",
       "      <td>1000000.0</td>\n",
       "      <td>0.0</td>\n",
       "      <td>4.245816</td>\n",
       "      <td>72359</td>\n",
       "    </tr>\n",
       "    <tr>\n",
       "      <th>7</th>\n",
       "      <td>LEGOÆ Juniors Create &amp;amp; Cruise</td>\n",
       "      <td>10000000.0</td>\n",
       "      <td>0.0</td>\n",
       "      <td>3.893223</td>\n",
       "      <td>134796</td>\n",
       "    </tr>\n",
       "    <tr>\n",
       "      <th>10</th>\n",
       "      <td>Music Hero Rock</td>\n",
       "      <td>100000.0</td>\n",
       "      <td>0.0</td>\n",
       "      <td>3.632439</td>\n",
       "      <td>4957</td>\n",
       "    </tr>\n",
       "    <tr>\n",
       "      <th>13</th>\n",
       "      <td>Clean Electric Guitar Plugin</td>\n",
       "      <td>1000000.0</td>\n",
       "      <td>0.0</td>\n",
       "      <td>3.480225</td>\n",
       "      <td>20053</td>\n",
       "    </tr>\n",
       "  </tbody>\n",
       "</table>\n",
       "</div>"
      ],
      "text/plain": [
       "                                 name  numDownloadsMin  price  \\\n",
       "4                 Super Piano FREE HD         100000.0    0.0   \n",
       "6                  Beach Buggy Racing        1000000.0    0.0   \n",
       "7   LEGOÆ Juniors Create &amp; Cruise       10000000.0    0.0   \n",
       "10                    Music Hero Rock         100000.0    0.0   \n",
       "13       Clean Electric Guitar Plugin        1000000.0    0.0   \n",
       "\n",
       "    aggregateRating  ratingCount  \n",
       "4          3.982524         1545  \n",
       "6          4.245816        72359  \n",
       "7          3.893223       134796  \n",
       "10         3.632439         4957  \n",
       "13         3.480225        20053  "
      ]
     },
     "execution_count": 132,
     "metadata": {},
     "output_type": "execute_result"
    }
   ],
   "source": [
    "sample = AndroidDf.copy()[['name','numDownloadsMin','price','aggregateRating','ratingCount']]\n",
    "sample.head()"
   ]
  },
  {
   "cell_type": "code",
   "execution_count": 134,
   "metadata": {},
   "outputs": [
    {
     "data": {
      "text/plain": [
       "name                object\n",
       "numDownloadsMin    float64\n",
       "price              float64\n",
       "aggregateRating    float64\n",
       "ratingCount          int64\n",
       "dtype: object"
      ]
     },
     "execution_count": 134,
     "metadata": {},
     "output_type": "execute_result"
    }
   ],
   "source": [
    "sample.dtypes"
   ]
  },
  {
   "cell_type": "markdown",
   "metadata": {},
   "source": [
    "### Plotting data"
   ]
  },
  {
   "cell_type": "code",
   "execution_count": 135,
   "metadata": {},
   "outputs": [],
   "source": [
    "import matplotlib.pyplot as plt\n",
    "import numpy as np\n",
    "pd.options.display.float_format = '{:,.2f}'.format\n",
    "%matplotlib inline\n"
   ]
  },
  {
   "cell_type": "code",
   "execution_count": 152,
   "metadata": {},
   "outputs": [
    {
     "data": {
      "text/html": [
       "<div>\n",
       "<style scoped>\n",
       "    .dataframe tbody tr th:only-of-type {\n",
       "        vertical-align: middle;\n",
       "    }\n",
       "\n",
       "    .dataframe tbody tr th {\n",
       "        vertical-align: top;\n",
       "    }\n",
       "\n",
       "    .dataframe thead th {\n",
       "        text-align: right;\n",
       "    }\n",
       "</style>\n",
       "<table border=\"1\" class=\"dataframe\">\n",
       "  <thead>\n",
       "    <tr style=\"text-align: right;\">\n",
       "      <th></th>\n",
       "      <th>name</th>\n",
       "      <th>numDownloadsMin</th>\n",
       "      <th>price</th>\n",
       "      <th>aggregateRating</th>\n",
       "      <th>ratingCount</th>\n",
       "      <th>Rank</th>\n",
       "    </tr>\n",
       "  </thead>\n",
       "  <tbody>\n",
       "    <tr>\n",
       "      <th>4</th>\n",
       "      <td>Super Piano FREE HD</td>\n",
       "      <td>100,000.00</td>\n",
       "      <td>0.00</td>\n",
       "      <td>3.98</td>\n",
       "      <td>1545</td>\n",
       "      <td>3.5-4</td>\n",
       "    </tr>\n",
       "    <tr>\n",
       "      <th>6</th>\n",
       "      <td>Beach Buggy Racing</td>\n",
       "      <td>1,000,000.00</td>\n",
       "      <td>0.00</td>\n",
       "      <td>4.25</td>\n",
       "      <td>72359</td>\n",
       "      <td>4-4.5</td>\n",
       "    </tr>\n",
       "    <tr>\n",
       "      <th>7</th>\n",
       "      <td>LEGOÆ Juniors Create &amp;amp; Cruise</td>\n",
       "      <td>10,000,000.00</td>\n",
       "      <td>0.00</td>\n",
       "      <td>3.89</td>\n",
       "      <td>134796</td>\n",
       "      <td>3.5-4</td>\n",
       "    </tr>\n",
       "    <tr>\n",
       "      <th>10</th>\n",
       "      <td>Music Hero Rock</td>\n",
       "      <td>100,000.00</td>\n",
       "      <td>0.00</td>\n",
       "      <td>3.63</td>\n",
       "      <td>4957</td>\n",
       "      <td>3.5-4</td>\n",
       "    </tr>\n",
       "    <tr>\n",
       "      <th>13</th>\n",
       "      <td>Clean Electric Guitar Plugin</td>\n",
       "      <td>1,000,000.00</td>\n",
       "      <td>0.00</td>\n",
       "      <td>3.48</td>\n",
       "      <td>20053</td>\n",
       "      <td>3-3.5</td>\n",
       "    </tr>\n",
       "  </tbody>\n",
       "</table>\n",
       "</div>"
      ],
      "text/plain": [
       "                                 name  numDownloadsMin  price  \\\n",
       "4                 Super Piano FREE HD       100,000.00   0.00   \n",
       "6                  Beach Buggy Racing     1,000,000.00   0.00   \n",
       "7   LEGOÆ Juniors Create &amp; Cruise    10,000,000.00   0.00   \n",
       "10                    Music Hero Rock       100,000.00   0.00   \n",
       "13       Clean Electric Guitar Plugin     1,000,000.00   0.00   \n",
       "\n",
       "    aggregateRating  ratingCount   Rank  \n",
       "4              3.98         1545  3.5-4  \n",
       "6              4.25        72359  4-4.5  \n",
       "7              3.89       134796  3.5-4  \n",
       "10             3.63         4957  3.5-4  \n",
       "13             3.48        20053  3-3.5  "
      ]
     },
     "execution_count": 152,
     "metadata": {},
     "output_type": "execute_result"
    }
   ],
   "source": [
    "ranges = [0,0.5,1,1.5,2,2.5,3,3.5,4,4.5,5]\n",
    "labels = ['0-0.5','0.5-1','1-1.5','1.5-2','2-2.5','2.5-3','3-3.5','3.5-4','4-4.5','4.5-5']\n",
    "\n",
    "sample[\"Rank\"]=pd.cut(sample.aggregateRating, ranges, labels=labels).astype('category')\n",
    "sample.head()"
   ]
  },
  {
   "cell_type": "code",
   "execution_count": 181,
   "metadata": {},
   "outputs": [
    {
     "data": {
      "text/html": [
       "<div>\n",
       "<style scoped>\n",
       "    .dataframe tbody tr th:only-of-type {\n",
       "        vertical-align: middle;\n",
       "    }\n",
       "\n",
       "    .dataframe tbody tr th {\n",
       "        vertical-align: top;\n",
       "    }\n",
       "\n",
       "    .dataframe thead th {\n",
       "        text-align: right;\n",
       "    }\n",
       "</style>\n",
       "<table border=\"1\" class=\"dataframe\">\n",
       "  <thead>\n",
       "    <tr style=\"text-align: right;\">\n",
       "      <th></th>\n",
       "      <th>AverageDownloads</th>\n",
       "    </tr>\n",
       "    <tr>\n",
       "      <th>Rank</th>\n",
       "      <th></th>\n",
       "    </tr>\n",
       "  </thead>\n",
       "  <tbody>\n",
       "    <tr>\n",
       "      <th>0-0.5</th>\n",
       "      <td>nan</td>\n",
       "    </tr>\n",
       "    <tr>\n",
       "      <th>0.5-1</th>\n",
       "      <td>nan</td>\n",
       "    </tr>\n",
       "    <tr>\n",
       "      <th>1-1.5</th>\n",
       "      <td>270,000.00</td>\n",
       "    </tr>\n",
       "    <tr>\n",
       "      <th>1.5-2</th>\n",
       "      <td>203,902.44</td>\n",
       "    </tr>\n",
       "    <tr>\n",
       "      <th>2-2.5</th>\n",
       "      <td>335,921.72</td>\n",
       "    </tr>\n",
       "  </tbody>\n",
       "</table>\n",
       "</div>"
      ],
      "text/plain": [
       "       AverageDownloads\n",
       "Rank                   \n",
       "0-0.5               nan\n",
       "0.5-1               nan\n",
       "1-1.5        270,000.00\n",
       "1.5-2        203,902.44\n",
       "2-2.5        335,921.72"
      ]
     },
     "execution_count": 181,
     "metadata": {},
     "output_type": "execute_result"
    }
   ],
   "source": [
    "p1 = pd.DataFrame(data=sample.groupby(\"Rank\").numDownloadsMin.mean())\n",
    "p1.columns=['AverageDownloads']\n",
    "p1.head()"
   ]
  },
  {
   "cell_type": "code",
   "execution_count": 182,
   "metadata": {},
   "outputs": [
    {
     "data": {
      "text/plain": [
       "<matplotlib.axes._subplots.AxesSubplot at 0x1551e1198>"
      ]
     },
     "execution_count": 182,
     "metadata": {},
     "output_type": "execute_result"
    },
    {
     "data": {
      "image/png": "[encoded data removed]",
      "text/plain": [
       "<Figure size 432x288 with 1 Axes>"
      ]
     },
     "metadata": {},
     "output_type": "display_data"
    }
   ],
   "source": [
    "p1.plot()"
   ]
  },
  {
   "cell_type": "code",
   "execution_count": 190,
   "metadata": {},
   "outputs": [
    {
     "data": {
      "text/html": [
       "<div>\n",
       "<style scoped>\n",
       "    .dataframe tbody tr th:only-of-type {\n",
       "        vertical-align: middle;\n",
       "    }\n",
       "\n",
       "    .dataframe tbody tr th {\n",
       "        vertical-align: top;\n",
       "    }\n",
       "\n",
       "    .dataframe thead th {\n",
       "        text-align: right;\n",
       "    }\n",
       "</style>\n",
       "<table border=\"1\" class=\"dataframe\">\n",
       "  <thead>\n",
       "    <tr style=\"text-align: right;\">\n",
       "      <th></th>\n",
       "      <th>count</th>\n",
       "      <th>mean</th>\n",
       "      <th>std</th>\n",
       "      <th>min</th>\n",
       "      <th>25%</th>\n",
       "      <th>50%</th>\n",
       "      <th>75%</th>\n",
       "      <th>max</th>\n",
       "    </tr>\n",
       "    <tr>\n",
       "      <th>Rank</th>\n",
       "      <th></th>\n",
       "      <th></th>\n",
       "      <th></th>\n",
       "      <th></th>\n",
       "      <th></th>\n",
       "      <th></th>\n",
       "      <th></th>\n",
       "      <th></th>\n",
       "    </tr>\n",
       "  </thead>\n",
       "  <tbody>\n",
       "    <tr>\n",
       "      <th>0-0.5</th>\n",
       "      <td>0.00</td>\n",
       "      <td>nan</td>\n",
       "      <td>nan</td>\n",
       "      <td>nan</td>\n",
       "      <td>nan</td>\n",
       "      <td>nan</td>\n",
       "      <td>nan</td>\n",
       "      <td>nan</td>\n",
       "    </tr>\n",
       "    <tr>\n",
       "      <th>0.5-1</th>\n",
       "      <td>0.00</td>\n",
       "      <td>nan</td>\n",
       "      <td>nan</td>\n",
       "      <td>nan</td>\n",
       "      <td>nan</td>\n",
       "      <td>nan</td>\n",
       "      <td>nan</td>\n",
       "      <td>nan</td>\n",
       "    </tr>\n",
       "    <tr>\n",
       "      <th>1-1.5</th>\n",
       "      <td>6.00</td>\n",
       "      <td>0.00</td>\n",
       "      <td>0.00</td>\n",
       "      <td>0.00</td>\n",
       "      <td>0.00</td>\n",
       "      <td>0.00</td>\n",
       "      <td>0.00</td>\n",
       "      <td>0.00</td>\n",
       "    </tr>\n",
       "    <tr>\n",
       "      <th>1.5-2</th>\n",
       "      <td>82.00</td>\n",
       "      <td>0.01</td>\n",
       "      <td>0.08</td>\n",
       "      <td>0.00</td>\n",
       "      <td>0.00</td>\n",
       "      <td>0.00</td>\n",
       "      <td>0.00</td>\n",
       "      <td>0.75</td>\n",
       "    </tr>\n",
       "    <tr>\n",
       "      <th>2-2.5</th>\n",
       "      <td>396.00</td>\n",
       "      <td>0.08</td>\n",
       "      <td>0.47</td>\n",
       "      <td>0.00</td>\n",
       "      <td>0.00</td>\n",
       "      <td>0.00</td>\n",
       "      <td>0.00</td>\n",
       "      <td>4.49</td>\n",
       "    </tr>\n",
       "    <tr>\n",
       "      <th>2.5-3</th>\n",
       "      <td>1,961.00</td>\n",
       "      <td>0.07</td>\n",
       "      <td>0.50</td>\n",
       "      <td>0.00</td>\n",
       "      <td>0.00</td>\n",
       "      <td>0.00</td>\n",
       "      <td>0.00</td>\n",
       "      <td>7.32</td>\n",
       "    </tr>\n",
       "    <tr>\n",
       "      <th>3-3.5</th>\n",
       "      <td>10,606.00</td>\n",
       "      <td>0.06</td>\n",
       "      <td>0.94</td>\n",
       "      <td>0.00</td>\n",
       "      <td>0.00</td>\n",
       "      <td>0.00</td>\n",
       "      <td>0.00</td>\n",
       "      <td>59.95</td>\n",
       "    </tr>\n",
       "    <tr>\n",
       "      <th>3.5-4</th>\n",
       "      <td>43,141.00</td>\n",
       "      <td>0.05</td>\n",
       "      <td>0.61</td>\n",
       "      <td>0.00</td>\n",
       "      <td>0.00</td>\n",
       "      <td>0.00</td>\n",
       "      <td>0.00</td>\n",
       "      <td>59.95</td>\n",
       "    </tr>\n",
       "    <tr>\n",
       "      <th>4-4.5</th>\n",
       "      <td>48,545.00</td>\n",
       "      <td>0.13</td>\n",
       "      <td>1.26</td>\n",
       "      <td>0.00</td>\n",
       "      <td>0.00</td>\n",
       "      <td>0.00</td>\n",
       "      <td>0.00</td>\n",
       "      <td>199.00</td>\n",
       "    </tr>\n",
       "    <tr>\n",
       "      <th>4.5-5</th>\n",
       "      <td>8,385.00</td>\n",
       "      <td>0.37</td>\n",
       "      <td>1.45</td>\n",
       "      <td>0.00</td>\n",
       "      <td>0.00</td>\n",
       "      <td>0.00</td>\n",
       "      <td>0.00</td>\n",
       "      <td>58.13</td>\n",
       "    </tr>\n",
       "  </tbody>\n",
       "</table>\n",
       "</div>"
      ],
      "text/plain": [
       "          count  mean  std  min  25%  50%  75%    max\n",
       "Rank                                                 \n",
       "0-0.5      0.00   nan  nan  nan  nan  nan  nan    nan\n",
       "0.5-1      0.00   nan  nan  nan  nan  nan  nan    nan\n",
       "1-1.5      6.00  0.00 0.00 0.00 0.00 0.00 0.00   0.00\n",
       "1.5-2     82.00  0.01 0.08 0.00 0.00 0.00 0.00   0.75\n",
       "2-2.5    396.00  0.08 0.47 0.00 0.00 0.00 0.00   4.49\n",
       "2.5-3  1,961.00  0.07 0.50 0.00 0.00 0.00 0.00   7.32\n",
       "3-3.5 10,606.00  0.06 0.94 0.00 0.00 0.00 0.00  59.95\n",
       "3.5-4 43,141.00  0.05 0.61 0.00 0.00 0.00 0.00  59.95\n",
       "4-4.5 48,545.00  0.13 1.26 0.00 0.00 0.00 0.00 199.00\n",
       "4.5-5  8,385.00  0.37 1.45 0.00 0.00 0.00 0.00  58.13"
      ]
     },
     "execution_count": 190,
     "metadata": {},
     "output_type": "execute_result"
    }
   ],
   "source": [
    "p2 = sample.groupby(\"Rank\").price.describe()\n",
    "p2"
   ]
  },
  {
   "cell_type": "code",
   "execution_count": 189,
   "metadata": {},
   "outputs": [
    {
     "data": {
      "text/plain": [
       "<matplotlib.axes._subplots.AxesSubplot at 0x14b6a46d8>"
      ]
     },
     "execution_count": 189,
     "metadata": {},
     "output_type": "execute_result"
    },
    {
     "data": {
      "image/png": "[encoded data removed]",
      "text/plain": [
       "<Figure size 432x288 with 1 Axes>"
      ]
     },
     "metadata": {},
     "output_type": "display_data"
    }
   ],
   "source": [
    "p2.plot(y='mean')"
   ]
  }
 ],
 "metadata": {
  "kernelspec": {
   "display_name": "Python 3",
   "language": "python",
   "name": "python3"
  },
  "language_info": {
   "codemirror_mode": {
    "name": "ipython",
    "version": 3
   },
   "file_extension": ".py",
   "mimetype": "text/x-python",
   "name": "python",
   "nbconvert_exporter": "python",
   "pygments_lexer": "ipython3",
   "version": "3.6.5"
  }
 },
 "nbformat": 4,
 "nbformat_minor": 2
}
